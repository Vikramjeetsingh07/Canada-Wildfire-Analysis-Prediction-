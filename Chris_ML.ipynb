{
  "nbformat": 4,
  "nbformat_minor": 0,
  "metadata": {
    "colab": {
      "provenance": []
    },
    "kernelspec": {
      "name": "python3",
      "display_name": "Python 3"
    },
    "language_info": {
      "name": "python"
    }
  },
  "cells": [
    {
      "cell_type": "code",
      "execution_count": null,
      "metadata": {
        "id": "8boEA2Z7H2iy"
      },
      "outputs": [],
      "source": [
        "from pyspark.sql import SparkSession\n",
        "from pyspark.sql.functions import (\n",
        "    col, lit, when, exp, radians, cos, sin, mean, avg, max as spark_max, min as spark_min,\n",
        "    sum as spark_sum, lag\n",
        ")\n",
        "from pyspark.sql.window import Window\n",
        "import pyspark.sql.functions as F\n",
        "from pyspark.sql.functions import year\n",
        "import matplotlib.pyplot as plt\n",
        "from pyspark.sql.functions import count, desc\n",
        "import matplotlib.pyplot as plt\n",
        "import pandas as pd\n",
        "import numpy as np"
      ]
    },
    {
      "cell_type": "markdown",
      "source": [
        "# Data Loading"
      ],
      "metadata": {
        "id": "SmYWibWCr05K"
      }
    },
    {
      "cell_type": "code",
      "source": [
        "spark = SparkSession.builder.appName(\"wildfire project\").getOrCreate()\n",
        "\n",
        "#inside data is all processed_data file, i.e. part-00000-d930...\n",
        "data_dir = \"/content/data\"\n",
        "\n",
        "df = spark.read.csv(data_dir, header=True, inferSchema=True).cache()\n",
        "\n",
        "# df.show(10)"
      ],
      "metadata": {
        "id": "3P5amXWles3x"
      },
      "execution_count": null,
      "outputs": []
    },
    {
      "cell_type": "code",
      "source": [
        "# List of columns to keep\n",
        "columns_to_keep = [\n",
        "    \"new_cumulative_precipitation\", \"et0_fao_evapotranspiration\", \"temperature_2m_mean\", \"shortwave_radiation_sum\",\n",
        "    \"temperature_2m_min\", \"temperature_2m_max\", \"new_dryness_index\", \"daylight_duration\",\n",
        "    \"new_relative_humidity\", \"new_precip_radiation_ratio\", \"wind_gusts_10m_max\",\n",
        "    \"sunshine_duration\", \"weather_latitude\", \"weather_longitude\",\"wind_speed_10m_max\",\"in_modis\"\n",
        "]\n",
        "\n",
        "# maybe consider adding 'date'? cuz fire has something to do with seasons?\n",
        "# One thing I could try: extract month from the date. Then categorize it into\n",
        "# seasons: spring, summer, fall, winter. In my knowledge, wildfire occurs mostly\n",
        "# in summer and fall.\n",
        "\n",
        "# Select only the desired columns\n",
        "df = df.select([col for col in columns_to_keep if col in df.columns])\n",
        "\n",
        "df = df.withColumnRenamed(\"in_modis\", \"wildfire\")\n",
        "\n",
        "df.show(10)"
      ],
      "metadata": {
        "colab": {
          "base_uri": "https://localhost:8080/"
        },
        "id": "VHYo7_WNe0Vc",
        "outputId": "e529aafe-6191-4431-c509-2b8d71cc5f56"
      },
      "execution_count": null,
      "outputs": [
        {
          "output_type": "stream",
          "name": "stdout",
          "text": [
            "+----------------------------+--------------------------+-------------------+-----------------------+------------------+------------------+------------------+-----------------+---------------------+--------------------------+------------------+-----------------+----------------+-----------------+------------------+--------+\n",
            "|new_cumulative_precipitation|et0_fao_evapotranspiration|temperature_2m_mean|shortwave_radiation_sum|temperature_2m_min|temperature_2m_max| new_dryness_index|daylight_duration|new_relative_humidity|new_precip_radiation_ratio|wind_gusts_10m_max|sunshine_duration|weather_latitude|weather_longitude|wind_speed_10m_max|wildfire|\n",
            "+----------------------------+--------------------------+-------------------+-----------------------+------------------+------------------+------------------+-----------------+---------------------+--------------------------+------------------+-----------------+----------------+-----------------+------------------+--------+\n",
            "|                         0.9|                0.22948267|          1.2445832|                   2.45|      -0.057499886|            2.2925| 10.67618744369673|        29069.135|    84.46212782832075|       0.36734693877551017|             38.16|        6618.6357|         50.6745|        -120.3273|          8.669949|   false|\n",
            "|                         1.1|                0.35927096|            2.56125|                   3.65|         0.6925001|            5.7925| 10.15946293015166|        29138.555|    69.75294023488284|       0.05479452054794521|         30.239998|         21141.04|         50.6745|        -120.3273|          9.422101|   false|\n",
            "|                  2.00000004|                0.34057966|          1.9362497|                   3.63|        0.74250007|            3.0425|10.658299441604939|        29213.334|     84.8547168884542|        0.2479338953168044|             24.48|         23591.11|         50.6745|        -120.3273|         7.5942073|   false|\n",
            "|          2.1000000400000003|                 0.3408976|          1.5050002|                   3.59|        -0.4074999|            4.5425|10.531021632302485|        29293.375|    70.25952101553422|       0.02785515320334262|             34.92|        23780.068|         50.6745|        -120.3273|          8.759178|   false|\n",
            "|                  8.39999974|                0.26243904|          1.4695835|                   2.21|       -0.25749993|            4.3925| 8.421003216594604|        29378.592|      71.779016726307|         2.850678597285068|         37.079998|        937.21216|         50.6745|        -120.3273|          9.779817|   false|\n",
            "|                 12.79999974|                0.34635696|          2.6466665|                   3.74|        0.54250014|         6.1425004|10.798108402383484|        29468.875|    67.35365088954994|        1.1764705882352942|             29.16|         23061.88|         50.6745|        -120.3273|          8.209263|   false|\n",
            "|                 15.49999974|                0.29348764|          3.2258332|                   2.51|         1.7925001|         4.7425003| 8.552319273138725|         29564.68|     81.1963426995302|        1.0756972111553786|             16.56|         9862.374|         50.6745|        -120.3273|          5.815978|   false|\n",
            "|          15.099999740000001|                0.42656577|          1.5029167|                   3.87|       -0.25749993|            2.9425| 9.072457923663213|        29666.828|    79.49088838925267|       0.12919896640826872|             35.64|        19207.918|         50.6745|        -120.3273|          9.585739|   false|\n",
            "|                 17.99999974|                0.22200148|          1.7529167|                   1.44|        0.09250009|            3.7925|  6.48644324353153|        29775.068|    76.78991572357292|         2.152777777777778|             38.88|              0.0|         50.6745|        -120.3273|          9.693296|   false|\n",
            "|                  27.5000007|                0.29296976|          2.1529167|                   2.33|        0.54250014|            5.1425| 7.953039248828957|        29889.143|    72.18431874865533|          4.46351974248927|             25.56|        10302.795|         50.6745|        -120.3273|          6.489992|   false|\n",
            "+----------------------------+--------------------------+-------------------+-----------------------+------------------+------------------+------------------+-----------------+---------------------+--------------------------+------------------+-----------------+----------------+-----------------+------------------+--------+\n",
            "only showing top 10 rows\n",
            "\n"
          ]
        }
      ]
    },
    {
      "cell_type": "code",
      "source": [
        "df = df.withColumn(\"wildfire\", when(col(\"wildfire\"), 1).otherwise(0))"
      ],
      "metadata": {
        "id": "CEGu1lfLlpfM"
      },
      "execution_count": null,
      "outputs": []
    },
    {
      "cell_type": "code",
      "source": [
        "df.show(10)"
      ],
      "metadata": {
        "colab": {
          "base_uri": "https://localhost:8080/"
        },
        "id": "7Eo9EDWLpWli",
        "outputId": "f4cc9ddf-5eb5-4937-fc29-5ffa8cc4e255"
      },
      "execution_count": null,
      "outputs": [
        {
          "output_type": "stream",
          "name": "stdout",
          "text": [
            "+----------------------------+--------------------------+-------------------+-----------------------+------------------+------------------+------------------+-----------------+---------------------+--------------------------+------------------+-----------------+----------------+-----------------+------------------+--------+\n",
            "|new_cumulative_precipitation|et0_fao_evapotranspiration|temperature_2m_mean|shortwave_radiation_sum|temperature_2m_min|temperature_2m_max| new_dryness_index|daylight_duration|new_relative_humidity|new_precip_radiation_ratio|wind_gusts_10m_max|sunshine_duration|weather_latitude|weather_longitude|wind_speed_10m_max|wildfire|\n",
            "+----------------------------+--------------------------+-------------------+-----------------------+------------------+------------------+------------------+-----------------+---------------------+--------------------------+------------------+-----------------+----------------+-----------------+------------------+--------+\n",
            "|                         0.9|                0.22948267|          1.2445832|                   2.45|      -0.057499886|            2.2925| 10.67618744369673|        29069.135|    84.46212782832075|       0.36734693877551017|             38.16|        6618.6357|         50.6745|        -120.3273|          8.669949|       0|\n",
            "|                         1.1|                0.35927096|            2.56125|                   3.65|         0.6925001|            5.7925| 10.15946293015166|        29138.555|    69.75294023488284|       0.05479452054794521|         30.239998|         21141.04|         50.6745|        -120.3273|          9.422101|       0|\n",
            "|                  2.00000004|                0.34057966|          1.9362497|                   3.63|        0.74250007|            3.0425|10.658299441604939|        29213.334|     84.8547168884542|        0.2479338953168044|             24.48|         23591.11|         50.6745|        -120.3273|         7.5942073|       0|\n",
            "|          2.1000000400000003|                 0.3408976|          1.5050002|                   3.59|        -0.4074999|            4.5425|10.531021632302485|        29293.375|    70.25952101553422|       0.02785515320334262|             34.92|        23780.068|         50.6745|        -120.3273|          8.759178|       0|\n",
            "|                  8.39999974|                0.26243904|          1.4695835|                   2.21|       -0.25749993|            4.3925| 8.421003216594604|        29378.592|      71.779016726307|         2.850678597285068|         37.079998|        937.21216|         50.6745|        -120.3273|          9.779817|       0|\n",
            "|                 12.79999974|                0.34635696|          2.6466665|                   3.74|        0.54250014|         6.1425004|10.798108402383484|        29468.875|    67.35365088954994|        1.1764705882352942|             29.16|         23061.88|         50.6745|        -120.3273|          8.209263|       0|\n",
            "|                 15.49999974|                0.29348764|          3.2258332|                   2.51|         1.7925001|         4.7425003| 8.552319273138725|         29564.68|     81.1963426995302|        1.0756972111553786|             16.56|         9862.374|         50.6745|        -120.3273|          5.815978|       0|\n",
            "|          15.099999740000001|                0.42656577|          1.5029167|                   3.87|       -0.25749993|            2.9425| 9.072457923663213|        29666.828|    79.49088838925267|       0.12919896640826872|             35.64|        19207.918|         50.6745|        -120.3273|          9.585739|       0|\n",
            "|                 17.99999974|                0.22200148|          1.7529167|                   1.44|        0.09250009|            3.7925|  6.48644324353153|        29775.068|    76.78991572357292|         2.152777777777778|             38.88|              0.0|         50.6745|        -120.3273|          9.693296|       0|\n",
            "|                  27.5000007|                0.29296976|          2.1529167|                   2.33|        0.54250014|            5.1425| 7.953039248828957|        29889.143|    72.18431874865533|          4.46351974248927|             25.56|        10302.795|         50.6745|        -120.3273|          6.489992|       0|\n",
            "+----------------------------+--------------------------+-------------------+-----------------------+------------------+------------------+------------------+-----------------+---------------------+--------------------------+------------------+-----------------+----------------+-----------------+------------------+--------+\n",
            "only showing top 10 rows\n",
            "\n"
          ]
        }
      ]
    },
    {
      "cell_type": "markdown",
      "source": [
        "# Data Cleaning\n"
      ],
      "metadata": {
        "id": "IXdev1xWr39S"
      }
    },
    {
      "cell_type": "code",
      "source": [
        "# Check for null values in each column\n",
        "for col_name in df.columns:\n",
        "    num_nulls = df.filter(F.col(col_name).isNull()).count()\n",
        "    if num_nulls > 0:\n",
        "        print(f\"Column '{col_name}' has {num_nulls} null values.\")\n",
        "\n",
        "#omit na row\n",
        "df = df.dropna()\n",
        "\n",
        "print(\"na has been removed\")"
      ],
      "metadata": {
        "colab": {
          "base_uri": "https://localhost:8080/"
        },
        "id": "AEcm7uz0r-Ex",
        "outputId": "0cdc45b5-3bf4-4104-ea20-6cc86c5033a7"
      },
      "execution_count": null,
      "outputs": [
        {
          "output_type": "stream",
          "name": "stdout",
          "text": [
            "Column 'new_dryness_index' has 1 null values.\n",
            "na has been removed\n"
          ]
        }
      ]
    },
    {
      "cell_type": "code",
      "source": [
        "# Checking for class imbalance\n",
        "wildfire_count = df.filter(col(\"wildfire\") == 1).count()\n",
        "non_wildfire_count = df.filter(col(\"wildfire\") == 0).count()\n",
        "\n",
        "# calculate the ratio\n",
        "imbalance_ratio = wildfire_count / non_wildfire_count\n",
        "\n",
        "print(f\"Wildfire count: {wildfire_count}\")\n",
        "print(f\"Non-wildfire count: {non_wildfire_count}\")\n",
        "print(f\"Imbalance ratio: {imbalance_ratio}\")"
      ],
      "metadata": {
        "colab": {
          "base_uri": "https://localhost:8080/"
        },
        "id": "uOzjDclzlL7E",
        "outputId": "2d9625c9-5780-469f-ace0-b79452e90f56"
      },
      "execution_count": null,
      "outputs": [
        {
          "output_type": "stream",
          "name": "stdout",
          "text": [
            "Wildfire count: 38082\n",
            "Non-wildfire count: 61595\n",
            "Imbalance ratio: 0.6182644695186298\n"
          ]
        }
      ]
    },
    {
      "cell_type": "markdown",
      "source": [
        "The ratio between wildfire and non-wildfre is 0.61, indicating there is no class imbalance problem that can cause a significant impact on the prediction."
      ],
      "metadata": {
        "id": "FGMvHSbkljD1"
      }
    },
    {
      "cell_type": "markdown",
      "source": [
        "# Data Split"
      ],
      "metadata": {
        "id": "D9DprxGBqlhs"
      }
    },
    {
      "cell_type": "code",
      "source": [
        "train_df, validation_df = df.randomSplit([0.8, 0.2], seed=123)"
      ],
      "metadata": {
        "id": "kE22rzabqlTb"
      },
      "execution_count": null,
      "outputs": []
    },
    {
      "cell_type": "markdown",
      "source": [
        "# Training"
      ],
      "metadata": {
        "id": "KeCrPwYdqt0K"
      }
    },
    {
      "cell_type": "code",
      "source": [
        "from pyspark.ml.tuning import CrossValidator, ParamGridBuilder\n",
        "from pyspark.ml.evaluation import BinaryClassificationEvaluator\n",
        "\n",
        "# parameter tunning\n",
        "paramGrid = ParamGridBuilder() \\\n",
        "    .addGrid(svm.maxIter, [5, 10, 20]) \\\n",
        "    .addGrid(svm.regParam, [0.01, 0.1, 1.0]) \\\n",
        "    .build()\n",
        "\n",
        "evaluator = BinaryClassificationEvaluator(labelCol=\"wildfire\", rawPredictionCol=\"rawPrediction\")\n",
        "cv = CrossValidator(estimator=svm, estimatorParamMaps=paramGrid, evaluator=evaluator, numFolds=3)\n",
        "\n",
        "cvModel = cv.fit(train_data)\n",
        "svm_model = cvModel.bestModel"
      ],
      "metadata": {
        "id": "TNK92G6Rqzef"
      },
      "execution_count": null,
      "outputs": []
    },
    {
      "cell_type": "code",
      "source": [
        "from pyspark.ml.tuning import CrossValidator, ParamGridBuilder\n",
        "from pyspark.ml.evaluation import BinaryClassificationEvaluator\n",
        "\n",
        "paramGrid = ParamGridBuilder() \\\n",
        "    .addGrid(lr.maxIter, [10, 20, 50]) \\\n",
        "    .addGrid(lr.regParam, [0.01, 0.1, 0.5]) \\\n",
        "    .addGrid(lr.elasticNetParam, [0.0, 0.5, 1.0]) \\\n",
        "    .build()\n",
        "\n",
        "evaluator = BinaryClassificationEvaluator(labelCol=\"wildfire\", rawPredictionCol=\"rawPrediction\")\n",
        "cv = CrossValidator(estimator=lr, estimatorParamMaps=paramGrid, evaluator=evaluator, numFolds=3)\n",
        "\n",
        "cvModel = cv.fit(train_data)\n",
        "\n",
        "lr_model = cvModel.bestModel"
      ],
      "metadata": {
        "id": "xCL7iwkwq5LC"
      },
      "execution_count": null,
      "outputs": []
    },
    {
      "cell_type": "code",
      "source": [
        "# parameters used for the best models\n",
        "\n",
        "svm_best_params = svm_model.extractParamMap()\n",
        "print(\"Best parameters for SVM:\")\n",
        "for param, value in svm_best_params.items():\n",
        "    print(f\"{param.name}: {value}\")\n",
        "\n",
        "lr_best_params = lr_model.extractParamMap()\n",
        "print(\"\\nBest parameters for Logistic Regression:\")\n",
        "for param, value in lr_best_params.items():\n",
        "    print(f\"{param.name}: {value}\")"
      ],
      "metadata": {
        "id": "uPS0sDZ948_q",
        "outputId": "09fb954d-27ea-4b40-edf3-c1d10bbcee9f",
        "colab": {
          "base_uri": "https://localhost:8080/"
        }
      },
      "execution_count": null,
      "outputs": [
        {
          "output_type": "stream",
          "name": "stdout",
          "text": [
            "Best parameters for SVM:\n",
            "aggregationDepth: 2\n",
            "featuresCol: features\n",
            "fitIntercept: True\n",
            "labelCol: wildfire\n",
            "maxBlockSizeInMB: 0.0\n",
            "maxIter: 20\n",
            "predictionCol: prediction\n",
            "rawPredictionCol: rawPrediction\n",
            "regParam: 0.01\n",
            "standardization: True\n",
            "threshold: 0.0\n",
            "tol: 1e-06\n",
            "\n",
            "Best parameters for Logistic Regression:\n",
            "aggregationDepth: 2\n",
            "elasticNetParam: 0.0\n",
            "family: auto\n",
            "featuresCol: features\n",
            "fitIntercept: True\n",
            "labelCol: wildfire\n",
            "maxBlockSizeInMB: 0.0\n",
            "maxIter: 50\n",
            "predictionCol: prediction\n",
            "probabilityCol: probability\n",
            "rawPredictionCol: rawPrediction\n",
            "regParam: 0.01\n",
            "standardization: True\n",
            "threshold: 0.5\n",
            "tol: 1e-06\n"
          ]
        }
      ]
    },
    {
      "cell_type": "markdown",
      "source": [
        "# Performance"
      ],
      "metadata": {
        "id": "3cARgHA9rOOj"
      }
    },
    {
      "cell_type": "code",
      "source": [
        "from pyspark.ml.evaluation import BinaryClassificationEvaluator, MulticlassClassificationEvaluator\n",
        "\n",
        "# SVM model\n",
        "svm_predictions = svm_model.transform(validation_data)\n",
        "evaluator = BinaryClassificationEvaluator(labelCol='wildfire', rawPredictionCol='rawPrediction', metricName='areaUnderROC')\n",
        "svm_auc = evaluator.evaluate(svm_predictions)\n",
        "evaluator = MulticlassClassificationEvaluator(labelCol='wildfire', predictionCol='prediction', metricName='accuracy')\n",
        "svm_accuracy = evaluator.evaluate(svm_predictions)\n",
        "\n",
        "# Logistic Regression model\n",
        "lr_predictions = lr_model.transform(validation_data)\n",
        "evaluator = BinaryClassificationEvaluator(labelCol='wildfire', rawPredictionCol='rawPrediction', metricName='areaUnderROC')\n",
        "lr_auc = evaluator.evaluate(lr_predictions)\n",
        "evaluator = MulticlassClassificationEvaluator(labelCol='wildfire', predictionCol='prediction', metricName='accuracy')\n",
        "lr_accuracy = evaluator.evaluate(lr_predictions)\n",
        "\n",
        "# Print the results\n",
        "print(f\"Tuned SVM AUC: {svm_auc}\")\n",
        "print(f\"Tuned SVM Accuracy: {svm_accuracy}\")\n",
        "print(f\"Tuned Logistic Regression AUC: {lr_auc}\")\n",
        "print(f\"Tuned Logistic Regression Accuracy: {lr_accuracy}\")"
      ],
      "metadata": {
        "id": "5r0ful1-rQ4_",
        "colab": {
          "base_uri": "https://localhost:8080/"
        },
        "outputId": "fe9bedff-3f30-4772-a8c3-b2316771e46e"
      },
      "execution_count": null,
      "outputs": [
        {
          "output_type": "stream",
          "name": "stdout",
          "text": [
            "Tuned SVM AUC: 0.8534608156446623\n",
            "Tuned SVM Accuracy: 0.785423473234481\n",
            "Tuned Logistic Regression AUC: 0.8597033542072159\n",
            "Tuned Logistic Regression Accuracy: 0.777029404372958\n"
          ]
        }
      ]
    }
  ]
}