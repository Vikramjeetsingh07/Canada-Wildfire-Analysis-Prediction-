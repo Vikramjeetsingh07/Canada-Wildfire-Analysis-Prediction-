{
  "nbformat": 4,
  "nbformat_minor": 0,
  "metadata": {
    "colab": {
      "provenance": []
    },
    "kernelspec": {
      "name": "python3",
      "display_name": "Python 3"
    },
    "language_info": {
      "name": "python"
    }
  },
  "cells": [
    {
      "cell_type": "code",
      "source": [
        "!pip install requests pandas\n"
      ],
      "metadata": {
        "colab": {
          "base_uri": "https://localhost:8080/"
        },
        "id": "GDtawG7i998Z",
        "outputId": "1e5f9c92-bd20-4e24-c1df-82d855789141"
      },
      "execution_count": null,
      "outputs": [
        {
          "output_type": "stream",
          "name": "stdout",
          "text": [
            "Requirement already satisfied: requests in /usr/local/lib/python3.10/dist-packages (2.32.3)\n",
            "Requirement already satisfied: pandas in /usr/local/lib/python3.10/dist-packages (2.2.2)\n",
            "Requirement already satisfied: charset-normalizer<4,>=2 in /usr/local/lib/python3.10/dist-packages (from requests) (3.4.0)\n",
            "Requirement already satisfied: idna<4,>=2.5 in /usr/local/lib/python3.10/dist-packages (from requests) (3.10)\n",
            "Requirement already satisfied: urllib3<3,>=1.21.1 in /usr/local/lib/python3.10/dist-packages (from requests) (2.2.3)\n",
            "Requirement already satisfied: certifi>=2017.4.17 in /usr/local/lib/python3.10/dist-packages (from requests) (2024.8.30)\n",
            "Requirement already satisfied: numpy>=1.22.4 in /usr/local/lib/python3.10/dist-packages (from pandas) (1.26.4)\n",
            "Requirement already satisfied: python-dateutil>=2.8.2 in /usr/local/lib/python3.10/dist-packages (from pandas) (2.8.2)\n",
            "Requirement already satisfied: pytz>=2020.1 in /usr/local/lib/python3.10/dist-packages (from pandas) (2024.2)\n",
            "Requirement already satisfied: tzdata>=2022.7 in /usr/local/lib/python3.10/dist-packages (from pandas) (2024.2)\n",
            "Requirement already satisfied: six>=1.5 in /usr/local/lib/python3.10/dist-packages (from python-dateutil>=2.8.2->pandas) (1.16.0)\n"
          ]
        }
      ]
    },
    {
      "cell_type": "code",
      "source": [
        "import requests\n",
        "import pandas as pd\n",
        "from io import StringIO\n",
        "import os\n",
        "\n",
        "# NOAA GHCN FTP URL\n",
        "base_url = \"https://www1.ncdc.noaa.gov/pub/data/ghcn/daily/by_year/\"\n",
        "output_dir = \"weather_data\"\n",
        "\n",
        "# Create output directory if it doesn't exist\n",
        "os.makedirs(output_dir, exist_ok=True)\n",
        "\n",
        "# Define function to download and filter data by country\n",
        "def download_weather_data(year):\n",
        "    url = f\"{base_url}{year}.csv.gz\"\n",
        "    response = requests.get(url)\n",
        "    if response.status_code == 200:\n",
        "        with open(f\"{output_dir}/{year}.csv.gz\", \"wb\") as f:\n",
        "            f.write(response.content)\n",
        "        print(f\"Downloaded {year} data.\")\n",
        "    else:\n",
        "        print(f\"Failed to download {year} data.\")\n",
        "\n",
        "# Download and process data for each year from 2006 to 2023\n",
        "for year in range(2006, 2024):\n",
        "    download_weather_data(year)\n",
        "\n",
        "# Process and filter data for Canada\n",
        "def process_data_for_canada():\n",
        "    data_frames = []\n",
        "    for year in range(2006, 2024):\n",
        "        file_path = f\"{output_dir}/{year}.csv.gz\"\n",
        "        df = pd.read_csv(file_path, compression='gzip', header=None, names=['ID', 'Date', 'Element', 'Value', 'MFlag', 'QFlag', 'SFlag', 'ObsTime'])\n",
        "        # Filter for Canadian weather stations (IDs starting with \"CA\")\n",
        "        canada_data = df[df['ID'].str.startswith(\"CA\")]\n",
        "        data_frames.append(canada_data)\n",
        "    all_data = pd.concat(data_frames, ignore_index=True)\n",
        "    all_data.to_csv(\"canada_weather_2006_2023.csv\", index=False)\n",
        "    print(\"Processed and saved Canadian weather data.\")\n",
        "\n",
        "process_data_for_canada()\n"
      ],
      "metadata": {
        "colab": {
          "base_uri": "https://localhost:8080/"
        },
        "id": "SXPGwjVm-B7p",
        "outputId": "150d311d-9e8a-42e4-f6a3-c9d6bcd8eb24"
      },
      "execution_count": null,
      "outputs": [
        {
          "output_type": "stream",
          "name": "stdout",
          "text": [
            "Downloaded 2006 data.\n",
            "Downloaded 2007 data.\n",
            "Downloaded 2008 data.\n",
            "Downloaded 2009 data.\n",
            "Downloaded 2010 data.\n",
            "Downloaded 2011 data.\n",
            "Downloaded 2012 data.\n",
            "Downloaded 2013 data.\n",
            "Downloaded 2014 data.\n",
            "Downloaded 2015 data.\n",
            "Downloaded 2016 data.\n",
            "Downloaded 2017 data.\n",
            "Downloaded 2018 data.\n",
            "Downloaded 2019 data.\n",
            "Downloaded 2020 data.\n",
            "Downloaded 2021 data.\n",
            "Downloaded 2022 data.\n",
            "Downloaded 2023 data.\n"
          ]
        }
      ]
    }
  ]
}